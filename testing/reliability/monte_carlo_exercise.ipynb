{
 "cells": [
  {
   "cell_type": "code",
   "execution_count": 12,
   "metadata": {},
   "outputs": [
    {
     "name": "stdout",
     "output_type": "stream",
     "text": [
      "The autoreload extension is already loaded. To reload it, use:\n",
      "  %reload_ext autoreload\n"
     ]
    }
   ],
   "source": [
    "%load_ext autoreload\n",
    "%autoreload 2\n",
    "\n",
    "from collections import OrderedDict\n",
    "\n",
    "from matplotlib.ticker import MaxNLocator\n",
    "import matplotlib.pyplot as plt\n",
    "import pandas as pd\n",
    "import numpy as np\n",
    "\n",
    "from respy_smm.MaximumLikelihoodEstimation import MaximumLikelihoodEstimationCls\n",
    "from respy_smm.SimulationBasedEstimation import SimulationBasedEstimationCls\n",
    "from respy_smm.optimizers.auxiliary_pybobyqa import wrapper_pybobyqa\n",
    "from respy_smm.auxiliary_depreciation import respy_obj_from_new_init\n",
    "from respy_smm.optimizers.auxiliary_pybobyqa import get_box_bounds\n",
    "from respy.pre_processing.data_processing import process_dataset\n",
    "\n",
    "from respy_smm.tests.auxiliary import get_observed_sample\n",
    "\n",
    "def plot_criterion_function(rslt):\n",
    "    fig, ax = plt.subplots(1, 1)\n",
    "    ax.plot(rslt[\"fval\"])\n",
    "    ax.set_title('Criterion function during optimization')\n",
    "    ax.set_ylabel('Criterion function')\n",
    "    ax.set_xlabel('Evaluation')\n",
    "    ax.xaxis.set_major_locator(MaxNLocator(integer=True))\n",
    "\n",
    "def plot_selected_parameter(rslt, pos):\n",
    "    fig, ax = plt.subplots(1, 1)\n",
    "    ax.plot(rslt[\"x_econ_all\"][:, pos])\n",
    "    ax.set_title('Parameter during optimization')\n",
    "    ax.set_ylabel('Parameter {:}'.format(pos))\n",
    "    ax.set_xlabel('Evaluation')\n",
    "    ax.xaxis.set_major_locator(MaxNLocator(integer=True))"
   ]
  },
  {
   "cell_type": "code",
   "execution_count": 13,
   "metadata": {},
   "outputs": [
    {
     "data": {
      "text/html": [
       "<div>\n",
       "<style scoped>\n",
       "    .dataframe tbody tr th:only-of-type {\n",
       "        vertical-align: middle;\n",
       "    }\n",
       "\n",
       "    .dataframe tbody tr th {\n",
       "        vertical-align: top;\n",
       "    }\n",
       "\n",
       "    .dataframe thead th {\n",
       "        text-align: right;\n",
       "    }\n",
       "</style>\n",
       "<table border=\"1\" class=\"dataframe\">\n",
       "  <thead>\n",
       "    <tr style=\"text-align: right;\">\n",
       "      <th></th>\n",
       "      <th></th>\n",
       "      <th>Identifier</th>\n",
       "      <th>Period</th>\n",
       "      <th>Choice</th>\n",
       "      <th>Wage</th>\n",
       "      <th>Experience_A</th>\n",
       "      <th>Experience_B</th>\n",
       "      <th>Years_Schooling</th>\n",
       "      <th>Lagged_Choice</th>\n",
       "      <th>Type</th>\n",
       "      <th>Total_Reward_1</th>\n",
       "      <th>...</th>\n",
       "      <th>Shock_Reward_3</th>\n",
       "      <th>Shock_Reward_4</th>\n",
       "      <th>Discount_Rate</th>\n",
       "      <th>General_Reward_1</th>\n",
       "      <th>General_Reward_2</th>\n",
       "      <th>Common_Reward</th>\n",
       "      <th>Immediate_Reward_1</th>\n",
       "      <th>Immediate_Reward_2</th>\n",
       "      <th>Immediate_Reward_3</th>\n",
       "      <th>Immediate_Reward_4</th>\n",
       "    </tr>\n",
       "    <tr>\n",
       "      <th>Identifier</th>\n",
       "      <th>Period</th>\n",
       "      <th></th>\n",
       "      <th></th>\n",
       "      <th></th>\n",
       "      <th></th>\n",
       "      <th></th>\n",
       "      <th></th>\n",
       "      <th></th>\n",
       "      <th></th>\n",
       "      <th></th>\n",
       "      <th></th>\n",
       "      <th></th>\n",
       "      <th></th>\n",
       "      <th></th>\n",
       "      <th></th>\n",
       "      <th></th>\n",
       "      <th></th>\n",
       "      <th></th>\n",
       "      <th></th>\n",
       "      <th></th>\n",
       "      <th></th>\n",
       "      <th></th>\n",
       "    </tr>\n",
       "  </thead>\n",
       "  <tbody>\n",
       "    <tr>\n",
       "      <th rowspan=\"5\" valign=\"top\">0</th>\n",
       "      <th>0</th>\n",
       "      <td>0</td>\n",
       "      <td>0</td>\n",
       "      <td>3</td>\n",
       "      <td>NaN</td>\n",
       "      <td>0</td>\n",
       "      <td>0</td>\n",
       "      <td>7</td>\n",
       "      <td>3</td>\n",
       "      <td>0</td>\n",
       "      <td>1.543243e+06</td>\n",
       "      <td>...</td>\n",
       "      <td>0.682802</td>\n",
       "      <td>1.921379</td>\n",
       "      <td>0.95</td>\n",
       "      <td>0.0</td>\n",
       "      <td>0.0</td>\n",
       "      <td>0.0</td>\n",
       "      <td>88666.411322</td>\n",
       "      <td>1.527807e+05</td>\n",
       "      <td>300000.682802</td>\n",
       "      <td>150001.921379</td>\n",
       "    </tr>\n",
       "    <tr>\n",
       "      <th>1</th>\n",
       "      <td>0</td>\n",
       "      <td>1</td>\n",
       "      <td>2</td>\n",
       "      <td>1.909853e+06</td>\n",
       "      <td>0</td>\n",
       "      <td>0</td>\n",
       "      <td>8</td>\n",
       "      <td>3</td>\n",
       "      <td>0</td>\n",
       "      <td>1.352703e+06</td>\n",
       "      <td>...</td>\n",
       "      <td>0.353985</td>\n",
       "      <td>-1.409555</td>\n",
       "      <td>0.95</td>\n",
       "      <td>0.0</td>\n",
       "      <td>0.0</td>\n",
       "      <td>0.0</td>\n",
       "      <td>254829.727842</td>\n",
       "      <td>1.909853e+06</td>\n",
       "      <td>300000.353985</td>\n",
       "      <td>149998.590445</td>\n",
       "    </tr>\n",
       "    <tr>\n",
       "      <th>2</th>\n",
       "      <td>0</td>\n",
       "      <td>2</td>\n",
       "      <td>3</td>\n",
       "      <td>NaN</td>\n",
       "      <td>0</td>\n",
       "      <td>1</td>\n",
       "      <td>8</td>\n",
       "      <td>2</td>\n",
       "      <td>0</td>\n",
       "      <td>9.923047e+05</td>\n",
       "      <td>...</td>\n",
       "      <td>0.268624</td>\n",
       "      <td>-1.178800</td>\n",
       "      <td>0.95</td>\n",
       "      <td>0.0</td>\n",
       "      <td>0.0</td>\n",
       "      <td>0.0</td>\n",
       "      <td>245524.915120</td>\n",
       "      <td>6.436165e+04</td>\n",
       "      <td>300000.268624</td>\n",
       "      <td>149998.821200</td>\n",
       "    </tr>\n",
       "    <tr>\n",
       "      <th>3</th>\n",
       "      <td>0</td>\n",
       "      <td>3</td>\n",
       "      <td>3</td>\n",
       "      <td>NaN</td>\n",
       "      <td>0</td>\n",
       "      <td>1</td>\n",
       "      <td>9</td>\n",
       "      <td>3</td>\n",
       "      <td>0</td>\n",
       "      <td>4.390555e+05</td>\n",
       "      <td>...</td>\n",
       "      <td>1.936420</td>\n",
       "      <td>0.805273</td>\n",
       "      <td>0.95</td>\n",
       "      <td>0.0</td>\n",
       "      <td>0.0</td>\n",
       "      <td>0.0</td>\n",
       "      <td>50859.169246</td>\n",
       "      <td>1.404823e+05</td>\n",
       "      <td>300001.936420</td>\n",
       "      <td>150000.805273</td>\n",
       "    </tr>\n",
       "    <tr>\n",
       "      <th>4</th>\n",
       "      <td>0</td>\n",
       "      <td>4</td>\n",
       "      <td>3</td>\n",
       "      <td>NaN</td>\n",
       "      <td>0</td>\n",
       "      <td>1</td>\n",
       "      <td>10</td>\n",
       "      <td>3</td>\n",
       "      <td>0</td>\n",
       "      <td>2.093751e+05</td>\n",
       "      <td>...</td>\n",
       "      <td>-0.818065</td>\n",
       "      <td>-0.851305</td>\n",
       "      <td>0.95</td>\n",
       "      <td>0.0</td>\n",
       "      <td>0.0</td>\n",
       "      <td>0.0</td>\n",
       "      <td>209375.061505</td>\n",
       "      <td>1.203472e+05</td>\n",
       "      <td>299999.181935</td>\n",
       "      <td>149999.148695</td>\n",
       "    </tr>\n",
       "  </tbody>\n",
       "</table>\n",
       "<p>5 rows × 29 columns</p>\n",
       "</div>"
      ],
      "text/plain": [
       "                   Identifier  Period  Choice          Wage  Experience_A  \\\n",
       "Identifier Period                                                           \n",
       "0          0                0       0       3           NaN             0   \n",
       "           1                0       1       2  1.909853e+06             0   \n",
       "           2                0       2       3           NaN             0   \n",
       "           3                0       3       3           NaN             0   \n",
       "           4                0       4       3           NaN             0   \n",
       "\n",
       "                   Experience_B  Years_Schooling  Lagged_Choice  Type  \\\n",
       "Identifier Period                                                       \n",
       "0          0                  0                7              3     0   \n",
       "           1                  0                8              3     0   \n",
       "           2                  1                8              2     0   \n",
       "           3                  1                9              3     0   \n",
       "           4                  1               10              3     0   \n",
       "\n",
       "                   Total_Reward_1         ...          Shock_Reward_3  \\\n",
       "Identifier Period                         ...                           \n",
       "0          0         1.543243e+06         ...                0.682802   \n",
       "           1         1.352703e+06         ...                0.353985   \n",
       "           2         9.923047e+05         ...                0.268624   \n",
       "           3         4.390555e+05         ...                1.936420   \n",
       "           4         2.093751e+05         ...               -0.818065   \n",
       "\n",
       "                   Shock_Reward_4  Discount_Rate  General_Reward_1  \\\n",
       "Identifier Period                                                    \n",
       "0          0             1.921379           0.95               0.0   \n",
       "           1            -1.409555           0.95               0.0   \n",
       "           2            -1.178800           0.95               0.0   \n",
       "           3             0.805273           0.95               0.0   \n",
       "           4            -0.851305           0.95               0.0   \n",
       "\n",
       "                   General_Reward_2  Common_Reward  Immediate_Reward_1  \\\n",
       "Identifier Period                                                        \n",
       "0          0                    0.0            0.0        88666.411322   \n",
       "           1                    0.0            0.0       254829.727842   \n",
       "           2                    0.0            0.0       245524.915120   \n",
       "           3                    0.0            0.0        50859.169246   \n",
       "           4                    0.0            0.0       209375.061505   \n",
       "\n",
       "                   Immediate_Reward_2  Immediate_Reward_3  Immediate_Reward_4  \n",
       "Identifier Period                                                              \n",
       "0          0             1.527807e+05       300000.682802       150001.921379  \n",
       "           1             1.909853e+06       300000.353985       149998.590445  \n",
       "           2             6.436165e+04       300000.268624       149998.821200  \n",
       "           3             1.404823e+05       300001.936420       150000.805273  \n",
       "           4             1.203472e+05       299999.181935       149999.148695  \n",
       "\n",
       "[5 rows x 29 columns]"
      ]
     },
     "execution_count": 13,
     "metadata": {},
     "output_type": "execute_result"
    }
   ],
   "source": [
    "fname = 'truth.respy.ini'\n",
    "respy_obj = respy_obj_from_new_init(fname)\n",
    "df = get_observed_sample(fname)\n",
    "df.head()"
   ]
  },
  {
   "cell_type": "markdown",
   "metadata": {},
   "source": [
    "# Maximum likelihood estimation"
   ]
  },
  {
   "cell_type": "markdown",
   "metadata": {},
   "source": [
    "We establish the baseline."
   ]
  },
  {
   "cell_type": "code",
   "execution_count": 3,
   "metadata": {},
   "outputs": [
    {
     "name": "stdout",
     "output_type": "stream",
     "text": [
      " ... value of MLE criterion function at truth    5.29101\n"
     ]
    }
   ],
   "source": [
    "mle_truth = MaximumLikelihoodEstimationCls(*('truth.respy.ini', 200)).fval['start']\n",
    "print(' ... value of MLE criterion function at truth {:10.5f}'.format(mle_truth))"
   ]
  },
  {
   "cell_type": "markdown",
   "metadata": {},
   "source": [
    "Now we are ready to start the estimation."
   ]
  },
  {
   "cell_type": "code",
   "execution_count": 10,
   "metadata": {},
   "outputs": [],
   "source": [
    "init_file, max_evals = 'model.respy.ini', 20\n",
    "\n",
    "mle_obj = MaximumLikelihoodEstimationCls(*(init_file, max_evals))\n",
    "box = get_box_bounds(init_file)\n",
    "\n",
    "kwargs = dict()\n",
    "kwargs['scaling_within_bounds'] = True\n",
    "kwargs['bounds'] = (box[:, 0], box[:, 1])\n",
    "kwargs['objfun_has_noise'] = True\n",
    "kwargs['maxfun'] = 10e6\n",
    "\n",
    "rslt = wrapper_pybobyqa(mle_obj.evaluate, mle_obj.x_free_econ_start, **kwargs)"
   ]
  },
  {
   "cell_type": "markdown",
   "metadata": {},
   "source": [
    "We are not ready to inspect the quality of our optimization."
   ]
  },
  {
   "cell_type": "code",
   "execution_count": 11,
   "metadata": {},
   "outputs": [
    {
     "data": {
      "image/png": "[encoded data removed]",
      "text/plain": [
       "<Figure size 432x288 with 1 Axes>"
      ]
     },
     "metadata": {
      "needs_background": "light"
     },
     "output_type": "display_data"
    },
    {
     "data": {
      "image/png": "[encoded data removed]",
      "text/plain": [
       "<Figure size 432x288 with 1 Axes>"
      ]
     },
     "metadata": {
      "needs_background": "light"
     },
     "output_type": "display_data"
    }
   ],
   "source": [
    "plot_selected_parameter(rslt, 3)\n",
    "plot_criterion_function(rslt)"
   ]
  },
  {
   "cell_type": "markdown",
   "metadata": {},
   "source": [
    "# Simulated method of moments"
   ]
  },
  {
   "cell_type": "code",
   "execution_count": 14,
   "metadata": {},
   "outputs": [],
   "source": [
    "def get_moments(df):\n",
    "    \n",
    "    moments = OrderedDict()\n",
    "    moments['Choice Probability'] = OrderedDict()\n",
    "    info = df['Choice'].groupby('Period').value_counts(normalize=True).to_dict()\n",
    "    for period in sorted(df['Period'].unique().tolist()):\n",
    "        moments['Choice Probability'][period] = []\n",
    "        for choice in range(1, 5):\n",
    "            try:\n",
    "                stat = info[(period, choice)]\n",
    "            except KeyError:\n",
    "                stat = 0.00\n",
    "            moments['Choice Probability'][period].append(stat)\n",
    "    return moments\n",
    "\n",
    "weighing_matrix = np.identity(4 * 5)\n",
    "moments_obs = get_moments(df)"
   ]
  },
  {
   "cell_type": "markdown",
   "metadata": {},
   "source": [
    "We establish a baseline."
   ]
  },
  {
   "cell_type": "code",
   "execution_count": 7,
   "metadata": {},
   "outputs": [
    {
     "name": "stdout",
     "output_type": "stream",
     "text": [
      " ... value of SMM criterion function at truth    0.00000\n"
     ]
    }
   ],
   "source": [
    "args = ('truth.respy.ini', moments_obs, weighing_matrix, get_moments, max_evals)\n",
    "smm_truth = SimulationBasedEstimationCls(*args).fval['start']\n",
    "print(' ... value of SMM criterion function at truth {:10.5f}'.format(smm_truth))"
   ]
  },
  {
   "cell_type": "code",
   "execution_count": 8,
   "metadata": {},
   "outputs": [],
   "source": [
    "init_file, max_evals = 'model.respy.ini', 200\n",
    "\n",
    "args = (init_file, moments_obs, weighing_matrix, get_moments, max_evals)\n",
    "smm_obj = SimulationBasedEstimationCls(*args)\n",
    "\n",
    "kwargs = dict()\n",
    "kwargs['scaling_within_bounds'] = True\n",
    "kwargs['bounds'] = (box[:, 0], box[:, 1])\n",
    "kwargs['objfun_has_noise'] = True\n",
    "kwargs['maxfun'] = 10e6\n",
    "\n",
    "rslt = wrapper_pybobyqa(smm_obj.evaluate, smm_obj.x_free_econ_start, **kwargs)"
   ]
  },
  {
   "cell_type": "markdown",
   "metadata": {},
   "source": [
    "We can now look at the progress of the optimization over time."
   ]
  },
  {
   "cell_type": "code",
   "execution_count": 9,
   "metadata": {},
   "outputs": [
    {
     "data": {
      "image/png": "[encoded data removed]",
      "text/plain": [
       "<Figure size 432x288 with 1 Axes>"
      ]
     },
     "metadata": {
      "needs_background": "light"
     },
     "output_type": "display_data"
    }
   ],
   "source": [
    "plot_criterion_function(rslt)"
   ]
  }
 ],
 "metadata": {
  "kernelspec": {
   "display_name": "Python 3",
   "language": "python",
   "name": "python3"
  },
  "language_info": {
   "codemirror_mode": {
    "name": "ipython",
    "version": 3
   },
   "file_extension": ".py",
   "mimetype": "text/x-python",
   "name": "python",
   "nbconvert_exporter": "python",
   "pygments_lexer": "ipython3",
   "version": "3.6.8"
  }
 },
 "nbformat": 4,
 "nbformat_minor": 2
}
